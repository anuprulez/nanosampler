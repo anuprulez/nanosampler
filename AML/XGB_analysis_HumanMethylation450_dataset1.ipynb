{
 "cells": [
  {
   "cell_type": "code",
   "execution_count": 1,
   "id": "64cee37a-a6c2-4384-9ca2-aeeb2af6f9c2",
   "metadata": {},
   "outputs": [],
   "source": [
    "import pandas as pd\n",
    "import numpy as np"
   ]
  },
  {
   "cell_type": "code",
   "execution_count": 2,
   "id": "7d9ee707-97f4-4044-bef9-ed6cbbb337ee",
   "metadata": {},
   "outputs": [],
   "source": [
    "base_path = \"../nanodiag_datasets/GSE175758/\""
   ]
  },
  {
   "cell_type": "code",
   "execution_count": null,
   "id": "deb15d5c-d4b0-4ac2-a829-bb792e0cde46",
   "metadata": {},
   "outputs": [],
   "source": [
    "df_merged_signals = pd.read_csv(base_path + \"merged_signals.csv\", sep=\"\\t\")\n",
    "df_merged_signals"
   ]
  },
  {
   "cell_type": "code",
   "execution_count": 5,
   "id": "565370c3-5400-46e2-a00a-c2aa97bb8d8b",
   "metadata": {},
   "outputs": [],
   "source": [
    "#df_merged_signals_features = df_merged_signals[df_merged_signals.columns[1:]]\n",
    "#df_merged_signals_features"
   ]
  },
  {
   "cell_type": "code",
   "execution_count": null,
   "id": "2e5efa6f-d721-446a-9427-36c0aabd942e",
   "metadata": {},
   "outputs": [],
   "source": []
  },
  {
   "cell_type": "code",
   "execution_count": 6,
   "id": "3c732b83-fe38-4dc6-ae38-f437a8e123cc",
   "metadata": {},
   "outputs": [],
   "source": [
    "from sklearn.datasets import load_iris\n",
    "from sklearn.feature_selection import SelectKBest\n",
    "from sklearn.feature_selection import f_classif"
   ]
  },
  {
   "cell_type": "code",
   "execution_count": null,
   "id": "35171dc2-4c03-4f6b-84f8-b8c01aeb5da0",
   "metadata": {},
   "outputs": [],
   "source": [
    "labels = df_merged_signals[\"treatment_label\"]\n",
    "features = df_merged_signals.drop(columns=[\"treatment_label\"])\n",
    "\n",
    "n_out_features = 100\n",
    "\n",
    "reduced_features = SelectKBest(f_classif, k=n_out_features).fit_transform(features, labels)"
   ]
  },
  {
   "cell_type": "code",
   "execution_count": null,
   "id": "a8fb4bfc-96f0-42f0-b6b0-b80a86dc6d55",
   "metadata": {},
   "outputs": [],
   "source": [
    "reduced_features.shape"
   ]
  },
  {
   "cell_type": "code",
   "execution_count": null,
   "id": "69a87dfb-7350-4cf1-9d58-165fd3d2374d",
   "metadata": {},
   "outputs": [],
   "source": [
    "import umap\n",
    "import umap.plot\n",
    "\n",
    "# n_neighbors\n",
    "# min_dist\n",
    "# n_components\n",
    "# metric\n",
    "\n",
    "mapper = umap.UMAP().fit(reduced_features) #n_neighbors=7\n",
    "umap.plot.points(mapper, labels=labels)"
   ]
  },
  {
   "cell_type": "code",
   "execution_count": null,
   "id": "22b45cf2-788a-4727-9661-37f2943ac114",
   "metadata": {},
   "outputs": [],
   "source": [
    "model_selectkfeatures = SelectKBest(f_classif, k=n_out_features).fit(features, labels)\n",
    "#dir(model_selectkfeatures)"
   ]
  },
  {
   "cell_type": "code",
   "execution_count": null,
   "id": "3aa4245f-363e-47be-b139-a42a7a926e9d",
   "metadata": {},
   "outputs": [],
   "source": [
    "model_selectkfeatures.get_feature_names_out()"
   ]
  },
  {
   "cell_type": "code",
   "execution_count": 12,
   "id": "00320835-6c2e-4caa-9c1b-ed02d651b4e5",
   "metadata": {},
   "outputs": [],
   "source": [
    "#model_selectkfeatures.feature_names_in_, len(model_selectkfeatures.feature_names_in_)"
   ]
  },
  {
   "cell_type": "code",
   "execution_count": null,
   "id": "c0cdf456-0f73-4f35-939e-271f3fad21ea",
   "metadata": {},
   "outputs": [],
   "source": []
  },
  {
   "cell_type": "code",
   "execution_count": null,
   "id": "fc53644c-d65e-4426-99e3-9c1536b35229",
   "metadata": {},
   "outputs": [],
   "source": [
    "from sklearn.model_selection import train_test_split\n",
    "\n",
    "n_out_features = 100\n",
    "X_train, X_test, y_train, y_test = train_test_split(features, labels, test_size=0.5, random_state=42)\n",
    "X_train.shape, X_test.shape, y_train.shape, y_test.shape"
   ]
  },
  {
   "cell_type": "code",
   "execution_count": null,
   "id": "abf2b1be-a715-469f-b69f-179258fbfed4",
   "metadata": {},
   "outputs": [],
   "source": [
    "model_selectkfeatures_train = SelectKBest(f_classif, k=n_out_features).fit(X_train, y_train)\n",
    "model_selectkfeatures_train.get_feature_names_out()"
   ]
  },
  {
   "cell_type": "code",
   "execution_count": null,
   "id": "dcd9888f-8c74-4d49-88f8-fedd74c74ba2",
   "metadata": {},
   "outputs": [],
   "source": [
    "test_transformed_features = model_selectkfeatures_train.transform(X_test)\n",
    "test_transformed_features.shape"
   ]
  },
  {
   "cell_type": "code",
   "execution_count": null,
   "id": "e6fe60db-a19d-4c0f-8c11-4a74ecbc7e89",
   "metadata": {},
   "outputs": [],
   "source": []
  },
  {
   "cell_type": "code",
   "execution_count": null,
   "id": "cc8415a6-7440-4088-8e41-7d4e36177721",
   "metadata": {},
   "outputs": [],
   "source": [
    "clf_xgb_selected = make_pipeline(\n",
    "    SelectKBest(f_classif, k=n_out_features), MinMaxScaler(), XGBClassifier()\n",
    ")\n",
    "\n",
    "clf_xgb_selected.fit(X_train, y_train)\n",
    "print(\n",
    "    \"Classification accuracy after univariate feature selection using XGB: {:.3f}\".format(\n",
    "        clf_selected.score(X_test, y_test)\n",
    "    )\n",
    ")"
   ]
  },
  {
   "cell_type": "code",
   "execution_count": null,
   "id": "be21beaf-3c07-4d42-9897-764ee93dd803",
   "metadata": {},
   "outputs": [],
   "source": [
    "dir(clf_xgb_selected)"
   ]
  },
  {
   "cell_type": "code",
   "execution_count": null,
   "id": "94a02190-463a-4342-9003-f113f6523d61",
   "metadata": {},
   "outputs": [],
   "source": [
    "x_test_transformed = clf_xgb_selected[:-1].transform(X_test)\n",
    "x_test_transformed.shape"
   ]
  },
  {
   "cell_type": "code",
   "execution_count": null,
   "id": "aab60f9f-965b-45b3-85ad-ea219e20132b",
   "metadata": {},
   "outputs": [],
   "source": [
    "y_score = clf_xgb_selected[2].predict_proba(x_test_transformed)\n",
    "y_score"
   ]
  },
  {
   "cell_type": "code",
   "execution_count": null,
   "id": "126330d9-588e-4f0e-b39e-b2fe6f2f120b",
   "metadata": {},
   "outputs": [],
   "source": [
    "from sklearn.metrics import precision_recall_curve, RocCurveDisplay, roc_curve, PrecisionRecallDisplay\n",
    "import matplotlib.pyplot as plt\n",
    "from sklearn.metrics import precision_recall_curve\n",
    "from sklearn.metrics import auc\n",
    "\n",
    "def plot_precision_recall_curve(y_true, y_scores):\n",
    "    precision, recall, _ = precision_recall_curve(y_true, y_scores)\n",
    "    area = auc(recall, precision)\n",
    "    \n",
    "    plt.figure()\n",
    "    plt.step(recall, precision, color='b', alpha=0.2, where='post')\n",
    "    plt.fill_between(recall, precision, step='post', alpha=0.2, color='b')\n",
    "    plt.xlabel('Recall')\n",
    "    plt.ylabel('Precision')\n",
    "    plt.ylim([0.0, 1.05])\n",
    "    plt.xlim([0.0, 1.0])\n",
    "    plt.title('Precision-Recall Curve (AUC = %0.2f)' % area)\n",
    "    plt.show()\n",
    "plot_precision_recall_curve(y_test, y_score[:, 1])"
   ]
  },
  {
   "cell_type": "code",
   "execution_count": null,
   "id": "97c38d35-c98a-4447-a3d3-b55d030f1747",
   "metadata": {},
   "outputs": [],
   "source": []
  },
  {
   "cell_type": "code",
   "execution_count": null,
   "id": "3c6f7067-bb20-480c-b3a4-2d2af04b97f8",
   "metadata": {},
   "outputs": [],
   "source": [
    "import matplotlib.pyplot as plt\n",
    "from sklearn.metrics import roc_curve, auc\n",
    "\n",
    "def plot_roc_auc_curve(y_true, y_scores):\n",
    "    fpr, tpr, _ = roc_curve(y_true, y_scores)\n",
    "    roc_auc = auc(fpr, tpr)\n",
    "    \n",
    "    plt.figure()\n",
    "    plt.plot(fpr, tpr, color='darkorange', lw=2, label='ROC curve (area = %0.2f)' % roc_auc)\n",
    "    plt.plot([0, 1], [0, 1], color='navy', lw=2, linestyle='--')\n",
    "    plt.xlim([0.0, 1.0])\n",
    "    plt.ylim([0.0, 1.05])\n",
    "    plt.xlabel('False Positive Rate')\n",
    "    plt.ylabel('True Positive Rate')\n",
    "    plt.title('Receiver Operating Characteristic (ROC) Curve')\n",
    "    plt.legend(loc=\"lower right\")\n",
    "    plt.show()\n",
    "\n",
    "# Example usage:\n",
    "# y_true = true labels\n",
    "# y_scores = predicted scores or probabilities for the positive class\n",
    "plot_roc_auc_curve(y_test, y_score[:, 1])"
   ]
  },
  {
   "cell_type": "code",
   "execution_count": null,
   "id": "adb1ec9f-8a14-4aa1-9031-509c9ac457e3",
   "metadata": {},
   "outputs": [],
   "source": []
  },
  {
   "cell_type": "code",
   "execution_count": null,
   "id": "22a91763-b1df-4939-bc62-9023306e7be1",
   "metadata": {},
   "outputs": [],
   "source": []
  },
  {
   "cell_type": "code",
   "execution_count": null,
   "id": "deb0df57-3632-4697-9fe6-349bf840d870",
   "metadata": {},
   "outputs": [],
   "source": []
  },
  {
   "cell_type": "code",
   "execution_count": null,
   "id": "adb3b47c-f236-4e4e-ae1f-8eff7fa921ca",
   "metadata": {},
   "outputs": [],
   "source": []
  },
  {
   "cell_type": "code",
   "execution_count": null,
   "id": "b05a866f-9f89-40b4-a3c6-46ddc267b671",
   "metadata": {},
   "outputs": [],
   "source": []
  },
  {
   "cell_type": "code",
   "execution_count": null,
   "id": "be5be75f-1184-4fe1-a88c-af10b326780c",
   "metadata": {},
   "outputs": [],
   "source": []
  },
  {
   "cell_type": "code",
   "execution_count": null,
   "id": "f61e812b-12bd-466a-a708-7bb55c15e2a8",
   "metadata": {},
   "outputs": [],
   "source": []
  },
  {
   "cell_type": "code",
   "execution_count": 63,
   "id": "c0367918-f854-4d9c-b10d-8183182686a4",
   "metadata": {},
   "outputs": [],
   "source": []
  },
  {
   "cell_type": "code",
   "execution_count": 64,
   "id": "8b9698be-da9e-4679-9555-8b7fae4fcacb",
   "metadata": {},
   "outputs": [],
   "source": []
  },
  {
   "cell_type": "code",
   "execution_count": null,
   "id": "e7e3e2cb-e5be-445a-89d3-c2437c34f1ec",
   "metadata": {},
   "outputs": [],
   "source": []
  },
  {
   "cell_type": "code",
   "execution_count": 67,
   "id": "59832987-2ef2-4677-b0f6-5a0bceb061b4",
   "metadata": {},
   "outputs": [
    {
     "name": "stdout",
     "output_type": "stream",
     "text": [
      "Classification accuracy after univariate feature selection using XGB: 0.920\n"
     ]
    }
   ],
   "source": []
  },
  {
   "cell_type": "code",
   "execution_count": 68,
   "id": "5f6a462e-8b08-4d05-a213-3991359d87c7",
   "metadata": {},
   "outputs": [
    {
     "data": {
      "text/plain": [
       "['__abstractmethods__',\n",
       " '__annotations__',\n",
       " '__class__',\n",
       " '__delattr__',\n",
       " '__dict__',\n",
       " '__dir__',\n",
       " '__doc__',\n",
       " '__eq__',\n",
       " '__format__',\n",
       " '__ge__',\n",
       " '__getattribute__',\n",
       " '__getitem__',\n",
       " '__getstate__',\n",
       " '__gt__',\n",
       " '__hash__',\n",
       " '__init__',\n",
       " '__init_subclass__',\n",
       " '__le__',\n",
       " '__len__',\n",
       " '__lt__',\n",
       " '__module__',\n",
       " '__ne__',\n",
       " '__new__',\n",
       " '__reduce__',\n",
       " '__reduce_ex__',\n",
       " '__repr__',\n",
       " '__setattr__',\n",
       " '__setstate__',\n",
       " '__sizeof__',\n",
       " '__sklearn_clone__',\n",
       " '__sklearn_is_fitted__',\n",
       " '__str__',\n",
       " '__subclasshook__',\n",
       " '__weakref__',\n",
       " '_abc_impl',\n",
       " '_build_request_for_signature',\n",
       " '_can_fit_transform',\n",
       " '_can_inverse_transform',\n",
       " '_can_transform',\n",
       " '_check_feature_names',\n",
       " '_check_fit_params',\n",
       " '_check_n_features',\n",
       " '_estimator_type',\n",
       " '_final_estimator',\n",
       " '_fit',\n",
       " '_get_default_requests',\n",
       " '_get_metadata_request',\n",
       " '_get_param_names',\n",
       " '_get_params',\n",
       " '_get_tags',\n",
       " '_iter',\n",
       " '_log_message',\n",
       " '_more_tags',\n",
       " '_parameter_constraints',\n",
       " '_replace_estimator',\n",
       " '_repr_html_',\n",
       " '_repr_html_inner',\n",
       " '_repr_mimebundle_',\n",
       " '_required_parameters',\n",
       " '_set_params',\n",
       " '_sk_visual_block_',\n",
       " '_validate_data',\n",
       " '_validate_names',\n",
       " '_validate_params',\n",
       " '_validate_steps',\n",
       " 'classes_',\n",
       " 'decision_function',\n",
       " 'feature_names_in_',\n",
       " 'fit',\n",
       " 'fit_predict',\n",
       " 'fit_transform',\n",
       " 'get_feature_names_out',\n",
       " 'get_metadata_routing',\n",
       " 'get_params',\n",
       " 'inverse_transform',\n",
       " 'memory',\n",
       " 'n_features_in_',\n",
       " 'named_steps',\n",
       " 'predict',\n",
       " 'predict_log_proba',\n",
       " 'predict_proba',\n",
       " 'score',\n",
       " 'score_samples',\n",
       " 'set_output',\n",
       " 'set_params',\n",
       " 'set_score_request',\n",
       " 'steps',\n",
       " 'transform',\n",
       " 'verbose']"
      ]
     },
     "execution_count": 68,
     "metadata": {},
     "output_type": "execute_result"
    }
   ],
   "source": []
  },
  {
   "cell_type": "code",
   "execution_count": 71,
   "id": "2d3f219a-bb7e-450e-aee4-f57d17fd2a8d",
   "metadata": {},
   "outputs": [
    {
     "data": {
      "text/plain": [
       "array([[0.68284106, 0.3171589 ],\n",
       "       [0.10685009, 0.8931499 ],\n",
       "       [0.2559796 , 0.7440204 ],\n",
       "       [0.76609695, 0.23390307],\n",
       "       [0.85783166, 0.14216834],\n",
       "       [0.7706917 , 0.2293083 ],\n",
       "       [0.19771713, 0.80228287],\n",
       "       [0.665138  , 0.334862  ],\n",
       "       [0.5110365 , 0.4889635 ],\n",
       "       [0.9319995 , 0.06800047],\n",
       "       [0.90402424, 0.09597573],\n",
       "       [0.95098937, 0.04901062],\n",
       "       [0.90402424, 0.09597573],\n",
       "       [0.90402424, 0.09597573],\n",
       "       [0.27782875, 0.72217125],\n",
       "       [0.95098937, 0.04901062],\n",
       "       [0.74548805, 0.25451195],\n",
       "       [0.95098937, 0.04901062],\n",
       "       [0.90402424, 0.09597573],\n",
       "       [0.6895437 , 0.3104563 ],\n",
       "       [0.6107195 , 0.3892805 ],\n",
       "       [0.5110365 , 0.4889635 ],\n",
       "       [0.2510934 , 0.7489066 ],\n",
       "       [0.51881135, 0.48118865],\n",
       "       [0.85783166, 0.14216834]], dtype=float32)"
      ]
     },
     "execution_count": 71,
     "metadata": {},
     "output_type": "execute_result"
    }
   ],
   "source": []
  },
  {
   "cell_type": "code",
   "execution_count": 85,
   "id": "f7e96d47-899e-4696-86d5-88cd35884c98",
   "metadata": {},
   "outputs": [
    {
     "data": {
      "text/plain": [
       "array([[0.68284106, 0.3171589 ],\n",
       "       [0.10685009, 0.8931499 ],\n",
       "       [0.2559796 , 0.7440204 ],\n",
       "       [0.76609695, 0.23390307],\n",
       "       [0.85783166, 0.14216834],\n",
       "       [0.7706917 , 0.2293083 ],\n",
       "       [0.19771713, 0.80228287],\n",
       "       [0.665138  , 0.334862  ],\n",
       "       [0.5110365 , 0.4889635 ],\n",
       "       [0.9319995 , 0.06800047],\n",
       "       [0.90402424, 0.09597573],\n",
       "       [0.95098937, 0.04901062],\n",
       "       [0.90402424, 0.09597573],\n",
       "       [0.90402424, 0.09597573],\n",
       "       [0.27782875, 0.72217125],\n",
       "       [0.95098937, 0.04901062],\n",
       "       [0.74548805, 0.25451195],\n",
       "       [0.95098937, 0.04901062],\n",
       "       [0.90402424, 0.09597573],\n",
       "       [0.6895437 , 0.3104563 ],\n",
       "       [0.6107195 , 0.3892805 ],\n",
       "       [0.5110365 , 0.4889635 ],\n",
       "       [0.2510934 , 0.7489066 ],\n",
       "       [0.51881135, 0.48118865],\n",
       "       [0.85783166, 0.14216834]], dtype=float32)"
      ]
     },
     "execution_count": 85,
     "metadata": {},
     "output_type": "execute_result"
    }
   ],
   "source": []
  },
  {
   "cell_type": "code",
   "execution_count": 87,
   "id": "ba1701d7-0a6e-4c66-a748-20fb50e755c1",
   "metadata": {},
   "outputs": [
    {
     "data": {
      "image/png": "[encoded data removed]",
      "text/plain": [
       "<Figure size 640x480 with 1 Axes>"
      ]
     },
     "metadata": {},
     "output_type": "display_data"
    }
   ],
   "source": []
  },
  {
   "cell_type": "code",
   "execution_count": 91,
   "id": "9614c901-2357-4d24-8eed-a8b42f3b4926",
   "metadata": {},
   "outputs": [
    {
     "data": {
      "image/png": "[encoded data removed]",
      "text/plain": [
       "<Figure size 640x480 with 1 Axes>"
      ]
     },
     "metadata": {},
     "output_type": "display_data"
    }
   ],
   "source": []
  },
  {
   "cell_type": "code",
   "execution_count": null,
   "id": "22bb3097-2abd-490f-b17c-b5e2b977a4d0",
   "metadata": {},
   "outputs": [],
   "source": []
  }
 ],
 "metadata": {
  "kernelspec": {
   "display_name": "Python 3 (ipykernel)",
   "language": "python",
   "name": "python3"
  },
  "language_info": {
   "codemirror_mode": {
    "name": "ipython",
    "version": 3
   },
   "file_extension": ".py",
   "mimetype": "text/x-python",
   "name": "python",
   "nbconvert_exporter": "python",
   "pygments_lexer": "ipython3",
   "version": "3.11.0"
  }
 },
 "nbformat": 4,
 "nbformat_minor": 5
}
