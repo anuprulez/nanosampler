{
 "cells": [
  {
   "cell_type": "code",
   "execution_count": 1,
   "id": "4309d07b-bd71-4c8c-aadd-278ac8e1f7c4",
   "metadata": {},
   "outputs": [
    {
     "name": "stdout",
     "output_type": "stream",
     "text": [
      "Collecting methylprep\n",
      "  Downloading methylprep-1.7.1-py3-none-any.whl (1.3 MB)\n",
      "\u001b[2K     \u001b[90m━━━━━━━━━━━━━━━━━━━━━━━━━━━━━━━━━━━━━━━━\u001b[0m \u001b[32m1.3/1.3 MB\u001b[0m \u001b[31m21.4 MB/s\u001b[0m eta \u001b[36m0:00:00\u001b[0m00:01\u001b[0m\n",
      "\u001b[?25hRequirement already satisfied: tqdm in /scratch/users/anup/miniconda3/envs/protTrans-finetuning/lib/python3.9/site-packages (from methylprep) (4.64.1)\n",
      "Requirement already satisfied: pandas>=1.3.0 in /scratch/users/anup/miniconda3/envs/protTrans-finetuning/lib/python3.9/site-packages (from methylprep) (1.5.3)\n",
      "Requirement already satisfied: requests in /scratch/users/anup/miniconda3/envs/protTrans-finetuning/lib/python3.9/site-packages (from methylprep) (2.28.1)\n",
      "Collecting statsmodels\n",
      "  Downloading statsmodels-0.14.1-cp39-cp39-manylinux_2_17_x86_64.manylinux2014_x86_64.whl (10.8 MB)\n",
      "\u001b[2K     \u001b[90m━━━━━━━━━━━━━━━━━━━━━━━━━━━━━━━━━━━━━━━━\u001b[0m \u001b[32m10.8/10.8 MB\u001b[0m \u001b[31m31.7 MB/s\u001b[0m eta \u001b[36m0:00:00\u001b[0m00:01\u001b[0m00:01\u001b[0m\n",
      "\u001b[?25hRequirement already satisfied: pyparsing>3.0 in /scratch/users/anup/miniconda3/envs/protTrans-finetuning/lib/python3.9/site-packages (from methylprep) (3.0.9)\n",
      "Requirement already satisfied: lxml in /scratch/users/anup/miniconda3/envs/protTrans-finetuning/lib/python3.9/site-packages (from methylprep) (4.9.2)\n",
      "Collecting bs4\n",
      "  Downloading bs4-0.0.2-py2.py3-none-any.whl (1.2 kB)\n",
      "Requirement already satisfied: numpy in /scratch/users/anup/miniconda3/envs/protTrans-finetuning/lib/python3.9/site-packages (from methylprep) (1.22.3)\n",
      "Requirement already satisfied: scipy in /scratch/users/anup/miniconda3/envs/protTrans-finetuning/lib/python3.9/site-packages (from methylprep) (1.7.3)\n",
      "Requirement already satisfied: python-dateutil>=2.8.1 in /scratch/users/anup/miniconda3/envs/protTrans-finetuning/lib/python3.9/site-packages (from pandas>=1.3.0->methylprep) (2.8.2)\n",
      "Requirement already satisfied: pytz>=2020.1 in /scratch/users/anup/miniconda3/envs/protTrans-finetuning/lib/python3.9/site-packages (from pandas>=1.3.0->methylprep) (2022.7.1)\n",
      "Requirement already satisfied: beautifulsoup4 in /scratch/users/anup/miniconda3/envs/protTrans-finetuning/lib/python3.9/site-packages (from bs4->methylprep) (4.11.1)\n",
      "Requirement already satisfied: charset-normalizer<3,>=2 in /scratch/users/anup/miniconda3/envs/protTrans-finetuning/lib/python3.9/site-packages (from requests->methylprep) (2.0.4)\n",
      "Requirement already satisfied: urllib3<1.27,>=1.21.1 in /scratch/users/anup/miniconda3/envs/protTrans-finetuning/lib/python3.9/site-packages (from requests->methylprep) (1.26.14)\n",
      "Requirement already satisfied: idna<4,>=2.5 in /scratch/users/anup/miniconda3/envs/protTrans-finetuning/lib/python3.9/site-packages (from requests->methylprep) (3.4)\n",
      "Requirement already satisfied: certifi>=2017.4.17 in /scratch/users/anup/miniconda3/envs/protTrans-finetuning/lib/python3.9/site-packages (from requests->methylprep) (2023.5.7)\n",
      "Requirement already satisfied: packaging>=21.3 in /scratch/users/anup/miniconda3/envs/protTrans-finetuning/lib/python3.9/site-packages (from statsmodels->methylprep) (22.0)\n",
      "Collecting patsy>=0.5.4\n",
      "  Downloading patsy-0.5.6-py2.py3-none-any.whl (233 kB)\n",
      "\u001b[2K     \u001b[90m━━━━━━━━━━━━━━━━━━━━━━━━━━━━━━━━━━━━━━\u001b[0m \u001b[32m233.9/233.9 kB\u001b[0m \u001b[31m24.6 MB/s\u001b[0m eta \u001b[36m0:00:00\u001b[0m\n",
      "\u001b[?25hRequirement already satisfied: six in /scratch/users/anup/miniconda3/envs/protTrans-finetuning/lib/python3.9/site-packages (from patsy>=0.5.4->statsmodels->methylprep) (1.16.0)\n",
      "Requirement already satisfied: soupsieve>1.2 in /scratch/users/anup/miniconda3/envs/protTrans-finetuning/lib/python3.9/site-packages (from beautifulsoup4->bs4->methylprep) (2.3.2.post1)\n",
      "Installing collected packages: patsy, bs4, statsmodels, methylprep\n",
      "Successfully installed bs4-0.0.2 methylprep-1.7.1 patsy-0.5.6 statsmodels-0.14.1\n"
     ]
    }
   ],
   "source": [
    "!pip install methylprep"
   ]
  },
  {
   "cell_type": "code",
   "execution_count": 30,
   "id": "d6d46ec1-e92e-4727-be6a-dd6475dc12df",
   "metadata": {},
   "outputs": [
    {
     "name": "stdout",
     "output_type": "stream",
     "text": [
      "Collecting methylsuite\n",
      "  Downloading methylsuite-1.4.0-py3-none-any.whl (2.7 kB)\n",
      "Requirement already satisfied: bs4 in /scratch/users/anup/miniconda3/envs/protTrans-finetuning/lib/python3.9/site-packages (from methylsuite) (0.0.2)\n",
      "Requirement already satisfied: seaborn in /scratch/users/anup/miniconda3/envs/protTrans-finetuning/lib/python3.9/site-packages (from methylsuite) (0.13.1)\n",
      "Requirement already satisfied: methylcheck in /scratch/users/anup/miniconda3/envs/protTrans-finetuning/lib/python3.9/site-packages (from methylsuite) (0.8.5)\n",
      "Requirement already satisfied: numpy in /scratch/users/anup/miniconda3/envs/protTrans-finetuning/lib/python3.9/site-packages (from methylsuite) (1.22.3)\n",
      "Requirement already satisfied: requests in /scratch/users/anup/miniconda3/envs/protTrans-finetuning/lib/python3.9/site-packages (from methylsuite) (2.28.1)\n",
      "Collecting methylize\n",
      "  Downloading methylize-1.1.1-py3-none-any.whl (96 kB)\n",
      "\u001b[2K     \u001b[90m━━━━━━━━━━━━━━━━━━━━━━━━━━━━━━━━━━━━━━━━\u001b[0m \u001b[32m97.0/97.0 kB\u001b[0m \u001b[31m3.9 MB/s\u001b[0m eta \u001b[36m0:00:00\u001b[0m\n",
      "\u001b[?25hRequirement already satisfied: matplotlib in /scratch/users/anup/miniconda3/envs/protTrans-finetuning/lib/python3.9/site-packages (from methylsuite) (3.6.3)\n",
      "Requirement already satisfied: pandas in /scratch/users/anup/miniconda3/envs/protTrans-finetuning/lib/python3.9/site-packages (from methylsuite) (1.5.3)\n",
      "Requirement already satisfied: statsmodels in /scratch/users/anup/miniconda3/envs/protTrans-finetuning/lib/python3.9/site-packages (from methylsuite) (0.14.1)\n",
      "Requirement already satisfied: tqdm in /scratch/users/anup/miniconda3/envs/protTrans-finetuning/lib/python3.9/site-packages (from methylsuite) (4.64.1)\n",
      "Requirement already satisfied: methylprep in /scratch/users/anup/miniconda3/envs/protTrans-finetuning/lib/python3.9/site-packages (from methylsuite) (1.7.1)\n",
      "Requirement already satisfied: scipy in /scratch/users/anup/miniconda3/envs/protTrans-finetuning/lib/python3.9/site-packages (from methylsuite) (1.7.3)\n",
      "Requirement already satisfied: lxml in /scratch/users/anup/miniconda3/envs/protTrans-finetuning/lib/python3.9/site-packages (from methylsuite) (4.9.2)\n",
      "Requirement already satisfied: beautifulsoup4 in /scratch/users/anup/miniconda3/envs/protTrans-finetuning/lib/python3.9/site-packages (from bs4->methylsuite) (4.11.1)\n",
      "Requirement already satisfied: fonttools>=4.22.0 in /scratch/users/anup/miniconda3/envs/protTrans-finetuning/lib/python3.9/site-packages (from matplotlib->methylsuite) (4.38.0)\n",
      "Requirement already satisfied: pyparsing>=2.2.1 in /scratch/users/anup/miniconda3/envs/protTrans-finetuning/lib/python3.9/site-packages (from matplotlib->methylsuite) (3.0.9)\n",
      "Requirement already satisfied: packaging>=20.0 in /scratch/users/anup/miniconda3/envs/protTrans-finetuning/lib/python3.9/site-packages (from matplotlib->methylsuite) (22.0)\n",
      "Requirement already satisfied: pillow>=6.2.0 in /scratch/users/anup/miniconda3/envs/protTrans-finetuning/lib/python3.9/site-packages (from matplotlib->methylsuite) (9.4.0)\n",
      "Requirement already satisfied: kiwisolver>=1.0.1 in /scratch/users/anup/miniconda3/envs/protTrans-finetuning/lib/python3.9/site-packages (from matplotlib->methylsuite) (1.4.4)\n",
      "Requirement already satisfied: python-dateutil>=2.7 in /scratch/users/anup/miniconda3/envs/protTrans-finetuning/lib/python3.9/site-packages (from matplotlib->methylsuite) (2.8.2)\n",
      "Requirement already satisfied: contourpy>=1.0.1 in /scratch/users/anup/miniconda3/envs/protTrans-finetuning/lib/python3.9/site-packages (from matplotlib->methylsuite) (1.0.7)\n",
      "Requirement already satisfied: cycler>=0.10 in /scratch/users/anup/miniconda3/envs/protTrans-finetuning/lib/python3.9/site-packages (from matplotlib->methylsuite) (0.11.0)\n",
      "Requirement already satisfied: openpyxl in /scratch/users/anup/miniconda3/envs/protTrans-finetuning/lib/python3.9/site-packages (from methylcheck->methylsuite) (3.0.10)\n",
      "Requirement already satisfied: scikit-learn in /scratch/users/anup/miniconda3/envs/protTrans-finetuning/lib/python3.9/site-packages (from methylcheck->methylsuite) (1.2.0)\n",
      "Requirement already satisfied: joblib in /scratch/users/anup/miniconda3/envs/protTrans-finetuning/lib/python3.9/site-packages (from methylcheck->methylsuite) (1.1.1)\n",
      "Requirement already satisfied: xlsxwriter in /scratch/users/anup/miniconda3/envs/protTrans-finetuning/lib/python3.9/site-packages (from methylcheck->methylsuite) (3.1.9)\n",
      "Requirement already satisfied: pytz>=2020.1 in /scratch/users/anup/miniconda3/envs/protTrans-finetuning/lib/python3.9/site-packages (from pandas->methylsuite) (2022.7.1)\n",
      "Collecting interlap\n",
      "  Downloading interlap-0.2.7.tar.gz (6.1 kB)\n",
      "  Preparing metadata (setup.py) ... \u001b[?25ldone\n",
      "\u001b[?25hCollecting pymysql\n",
      "  Downloading PyMySQL-1.1.0-py3-none-any.whl (44 kB)\n",
      "\u001b[2K     \u001b[90m━━━━━━━━━━━━━━━━━━━━━━━━━━━━━━━━━━━━━━━━\u001b[0m \u001b[32m44.8/44.8 kB\u001b[0m \u001b[31m4.2 MB/s\u001b[0m eta \u001b[36m0:00:00\u001b[0m\n",
      "\u001b[?25hCollecting adjustText\n",
      "  Downloading adjustText-1.0.4-py3-none-any.whl (11 kB)\n",
      "Collecting toolshed\n",
      "  Downloading toolshed-0.4.6.tar.gz (13 kB)\n",
      "  Preparing metadata (setup.py) ... \u001b[?25ldone\n",
      "\u001b[?25hRequirement already satisfied: certifi>=2017.4.17 in /scratch/users/anup/miniconda3/envs/protTrans-finetuning/lib/python3.9/site-packages (from requests->methylsuite) (2023.5.7)\n",
      "Requirement already satisfied: urllib3<1.27,>=1.21.1 in /scratch/users/anup/miniconda3/envs/protTrans-finetuning/lib/python3.9/site-packages (from requests->methylsuite) (1.26.14)\n",
      "Requirement already satisfied: charset-normalizer<3,>=2 in /scratch/users/anup/miniconda3/envs/protTrans-finetuning/lib/python3.9/site-packages (from requests->methylsuite) (2.0.4)\n",
      "Requirement already satisfied: idna<4,>=2.5 in /scratch/users/anup/miniconda3/envs/protTrans-finetuning/lib/python3.9/site-packages (from requests->methylsuite) (3.4)\n",
      "Requirement already satisfied: patsy>=0.5.4 in /scratch/users/anup/miniconda3/envs/protTrans-finetuning/lib/python3.9/site-packages (from statsmodels->methylsuite) (0.5.6)\n",
      "Requirement already satisfied: six in /scratch/users/anup/miniconda3/envs/protTrans-finetuning/lib/python3.9/site-packages (from patsy>=0.5.4->statsmodels->methylsuite) (1.16.0)\n",
      "Requirement already satisfied: soupsieve>1.2 in /scratch/users/anup/miniconda3/envs/protTrans-finetuning/lib/python3.9/site-packages (from beautifulsoup4->bs4->methylsuite) (2.3.2.post1)\n",
      "Requirement already satisfied: et_xmlfile in /scratch/users/anup/miniconda3/envs/protTrans-finetuning/lib/python3.9/site-packages (from openpyxl->methylcheck->methylsuite) (1.1.0)\n",
      "Requirement already satisfied: threadpoolctl>=2.0.0 in /scratch/users/anup/miniconda3/envs/protTrans-finetuning/lib/python3.9/site-packages (from scikit-learn->methylcheck->methylsuite) (2.2.0)\n",
      "Building wheels for collected packages: interlap, toolshed\n",
      "  Building wheel for interlap (setup.py) ... \u001b[?25ldone\n",
      "\u001b[?25h  Created wheel for interlap: filename=interlap-0.2.7-py3-none-any.whl size=6281 sha256=128a76946e9187a5b2bffbf3261e1d8f9bd042c7acaebb7759e412a5ac7375b9\n",
      "  Stored in directory: /home/centos/.cache/pip/wheels/aa/fe/2c/e8f042b62fa47878b07d07b66a770fd8a4d7bb595f548749ac\n",
      "  Building wheel for toolshed (setup.py) ... \u001b[?25ldone\n",
      "\u001b[?25h  Created wheel for toolshed: filename=toolshed-0.4.6-py3-none-any.whl size=9176 sha256=29839c99754718109a15bf264d706b8a14fe132555ad6eacc39533fe0e7998e9\n",
      "  Stored in directory: /home/centos/.cache/pip/wheels/c8/41/3e/2b32cdaf80839bb89c5cb21afdf34649f99b2c62ac3e98ba8e\n",
      "Successfully built interlap toolshed\n",
      "Installing collected packages: toolshed, interlap, pymysql, adjustText, methylize, methylsuite\n",
      "Successfully installed adjustText-1.0.4 interlap-0.2.7 methylize-1.1.1 methylsuite-1.4.0 pymysql-1.1.0 toolshed-0.4.6\n"
     ]
    }
   ],
   "source": [
    "!pip install methylsuite"
   ]
  },
  {
   "cell_type": "code",
   "execution_count": 19,
   "id": "91a040c4-342a-47bb-9222-baab74beb3c1",
   "metadata": {},
   "outputs": [
    {
     "name": "stderr",
     "output_type": "stream",
     "text": [
      "INFO:methylprep.processing.pipeline:Running pipeline in: idat_data\n",
      "Traceback (most recent call last):\n",
      "  File \"/scratch/users/anup/miniconda3/envs/protTrans-finetuning/lib/python3.9/site-packages/methylprep/processing/pipeline.py\", line 241, in run_pipeline\n",
      "    sample_sheet = get_sample_sheet(data_dir, filepath=sample_sheet_filepath)\n",
      "  File \"/scratch/users/anup/miniconda3/envs/protTrans-finetuning/lib/python3.9/site-packages/methylprep/files/sample_sheets.py\", line 36, in get_sample_sheet\n",
      "    filepath = find_sample_sheet(dir_path)\n",
      "  File \"/scratch/users/anup/miniconda3/envs/protTrans-finetuning/lib/python3.9/site-packages/methylprep/files/sample_sheets.py\", line 114, in find_sample_sheet\n",
      "    raise FileNotFoundError(f\"Could not find sample sheet.\")\n",
      "FileNotFoundError: Could not find sample sheet.\n",
      "\n",
      "During handling of the above exception, another exception occurred:\n",
      "\n",
      "Traceback (most recent call last):\n",
      "  File \"/scratch/users/anup/miniconda3/envs/protTrans-finetuning/lib/python3.9/site-packages/methylprep/processing/multi_array_idat_batches.py\", line 21, in check_array_folders\n",
      "    sample_sheet_file_path = find_sample_sheet(data_dir, return_all=True)\n",
      "  File \"/scratch/users/anup/miniconda3/envs/protTrans-finetuning/lib/python3.9/site-packages/methylprep/files/sample_sheets.py\", line 114, in find_sample_sheet\n",
      "    raise FileNotFoundError(f\"Could not find sample sheet.\")\n",
      "FileNotFoundError: Could not find sample sheet.\n",
      "\n",
      "During handling of the above exception, another exception occurred:\n",
      "\n",
      "Traceback (most recent call last):\n",
      "  File \"/scratch/users/anup/miniconda3/envs/protTrans-finetuning/lib/python3.9/site-packages/methylprep/files/sample_sheets.py\", line 196, in create_sample_sheet\n",
      "    raise ValueError(file_name_error_msg.format(idat))\n",
      "ValueError: This .idat file does not have the right pattern to auto-generate a sample sheet: idat_data/Galaxy11-[HL60_Parental_R06C01_Grn.idat].idat\n",
      "\n",
      "During handling of the above exception, another exception occurred:\n",
      "\n",
      "Traceback (most recent call last):\n",
      "  File \"/scratch/users/anup/miniconda3/envs/protTrans-finetuning/lib/python3.9/runpy.py\", line 197, in _run_module_as_main\n",
      "    return _run_code(code, main_globals, None,\n",
      "  File \"/scratch/users/anup/miniconda3/envs/protTrans-finetuning/lib/python3.9/runpy.py\", line 87, in _run_code\n",
      "    exec(code, run_globals)\n",
      "  File \"/scratch/users/anup/miniconda3/envs/protTrans-finetuning/lib/python3.9/site-packages/methylprep/__main__.py\", line 6, in <module>\n",
      "    cli_app()\n",
      "  File \"/scratch/users/anup/miniconda3/envs/protTrans-finetuning/lib/python3.9/site-packages/methylprep/cli.py\", line 678, in cli_app\n",
      "    build_parser()\n",
      "  File \"/scratch/users/anup/miniconda3/envs/protTrans-finetuning/lib/python3.9/site-packages/methylprep/cli.py\", line 82, in build_parser\n",
      "    parsed_args.func(func_args)\n",
      "  File \"/scratch/users/anup/miniconda3/envs/protTrans-finetuning/lib/python3.9/site-packages/methylprep/cli.py\", line 276, in cli_process\n",
      "    run_pipeline(\n",
      "  File \"/scratch/users/anup/miniconda3/envs/protTrans-finetuning/lib/python3.9/site-packages/methylprep/processing/pipeline.py\", line 244, in run_pipeline\n",
      "    instructions = check_array_folders(data_dir, verbose=True) # prints instructions for GEO multi-array data packages.\n",
      "  File \"/scratch/users/anup/miniconda3/envs/protTrans-finetuning/lib/python3.9/site-packages/methylprep/processing/multi_array_idat_batches.py\", line 23, in check_array_folders\n",
      "    create_sample_sheet(data_dir, matrix_file=False, output_file='samplesheet.csv',\n",
      "  File \"/scratch/users/anup/miniconda3/envs/protTrans-finetuning/lib/python3.9/site-packages/methylprep/files/sample_sheets.py\", line 198, in create_sample_sheet\n",
      "    raise ValueError(file_name_error_msg.format(idat))\n",
      "ValueError: This .idat file does not have the right pattern to auto-generate a sample sheet: idat_data/Galaxy11-[HL60_Parental_R06C01_Grn.idat].idat\n"
     ]
    },
    {
     "ename": "CalledProcessError",
     "evalue": "Command 'b'\\n#python -m methylprep process -d \"one-idat-file\" --all --export\\n\\npython -m methylprep process -d \"idat_data/\" --all\\n'' returned non-zero exit status 1.",
     "output_type": "error",
     "traceback": [
      "\u001b[0;31m---------------------------------------------------------------------------\u001b[0m",
      "\u001b[0;31mCalledProcessError\u001b[0m                        Traceback (most recent call last)",
      "Cell \u001b[0;32mIn[19], line 1\u001b[0m\n\u001b[0;32m----> 1\u001b[0m \u001b[43mget_ipython\u001b[49m\u001b[43m(\u001b[49m\u001b[43m)\u001b[49m\u001b[38;5;241;43m.\u001b[39;49m\u001b[43mrun_cell_magic\u001b[49m\u001b[43m(\u001b[49m\u001b[38;5;124;43m'\u001b[39;49m\u001b[38;5;124;43mbash\u001b[39;49m\u001b[38;5;124;43m'\u001b[39;49m\u001b[43m,\u001b[49m\u001b[43m \u001b[49m\u001b[38;5;124;43m'\u001b[39;49m\u001b[38;5;124;43m'\u001b[39;49m\u001b[43m,\u001b[49m\u001b[43m \u001b[49m\u001b[38;5;124;43m'\u001b[39;49m\u001b[38;5;130;43;01m\\n\u001b[39;49;00m\u001b[38;5;124;43m#python -m methylprep process -d \u001b[39;49m\u001b[38;5;124;43m\"\u001b[39;49m\u001b[38;5;124;43mone-idat-file\u001b[39;49m\u001b[38;5;124;43m\"\u001b[39;49m\u001b[38;5;124;43m --all --export\u001b[39;49m\u001b[38;5;130;43;01m\\n\u001b[39;49;00m\u001b[38;5;130;43;01m\\n\u001b[39;49;00m\u001b[38;5;124;43mpython -m methylprep process -d \u001b[39;49m\u001b[38;5;124;43m\"\u001b[39;49m\u001b[38;5;124;43midat_data/\u001b[39;49m\u001b[38;5;124;43m\"\u001b[39;49m\u001b[38;5;124;43m --all\u001b[39;49m\u001b[38;5;130;43;01m\\n\u001b[39;49;00m\u001b[38;5;124;43m'\u001b[39;49m\u001b[43m)\u001b[49m\n",
      "File \u001b[0;32m/scratch/users/anup/miniconda3/envs/protTrans-finetuning/lib/python3.9/site-packages/IPython/core/interactiveshell.py:2422\u001b[0m, in \u001b[0;36mInteractiveShell.run_cell_magic\u001b[0;34m(self, magic_name, line, cell)\u001b[0m\n\u001b[1;32m   2420\u001b[0m \u001b[38;5;28;01mwith\u001b[39;00m \u001b[38;5;28mself\u001b[39m\u001b[38;5;241m.\u001b[39mbuiltin_trap:\n\u001b[1;32m   2421\u001b[0m     args \u001b[38;5;241m=\u001b[39m (magic_arg_s, cell)\n\u001b[0;32m-> 2422\u001b[0m     result \u001b[38;5;241m=\u001b[39m \u001b[43mfn\u001b[49m\u001b[43m(\u001b[49m\u001b[38;5;241;43m*\u001b[39;49m\u001b[43margs\u001b[49m\u001b[43m,\u001b[49m\u001b[43m \u001b[49m\u001b[38;5;241;43m*\u001b[39;49m\u001b[38;5;241;43m*\u001b[39;49m\u001b[43mkwargs\u001b[49m\u001b[43m)\u001b[49m\n\u001b[1;32m   2423\u001b[0m \u001b[38;5;28;01mreturn\u001b[39;00m result\n",
      "File \u001b[0;32m/scratch/users/anup/miniconda3/envs/protTrans-finetuning/lib/python3.9/site-packages/IPython/core/magics/script.py:153\u001b[0m, in \u001b[0;36mScriptMagics._make_script_magic.<locals>.named_script_magic\u001b[0;34m(line, cell)\u001b[0m\n\u001b[1;32m    151\u001b[0m \u001b[38;5;28;01melse\u001b[39;00m:\n\u001b[1;32m    152\u001b[0m     line \u001b[38;5;241m=\u001b[39m script\n\u001b[0;32m--> 153\u001b[0m \u001b[38;5;28;01mreturn\u001b[39;00m \u001b[38;5;28;43mself\u001b[39;49m\u001b[38;5;241;43m.\u001b[39;49m\u001b[43mshebang\u001b[49m\u001b[43m(\u001b[49m\u001b[43mline\u001b[49m\u001b[43m,\u001b[49m\u001b[43m \u001b[49m\u001b[43mcell\u001b[49m\u001b[43m)\u001b[49m\n",
      "File \u001b[0;32m/scratch/users/anup/miniconda3/envs/protTrans-finetuning/lib/python3.9/site-packages/IPython/core/magics/script.py:305\u001b[0m, in \u001b[0;36mScriptMagics.shebang\u001b[0;34m(self, line, cell)\u001b[0m\n\u001b[1;32m    300\u001b[0m \u001b[38;5;28;01mif\u001b[39;00m args\u001b[38;5;241m.\u001b[39mraise_error \u001b[38;5;129;01mand\u001b[39;00m p\u001b[38;5;241m.\u001b[39mreturncode \u001b[38;5;241m!=\u001b[39m \u001b[38;5;241m0\u001b[39m:\n\u001b[1;32m    301\u001b[0m     \u001b[38;5;66;03m# If we get here and p.returncode is still None, we must have\u001b[39;00m\n\u001b[1;32m    302\u001b[0m     \u001b[38;5;66;03m# killed it but not yet seen its return code. We don't wait for it,\u001b[39;00m\n\u001b[1;32m    303\u001b[0m     \u001b[38;5;66;03m# in case it's stuck in uninterruptible sleep. -9 = SIGKILL\u001b[39;00m\n\u001b[1;32m    304\u001b[0m     rc \u001b[38;5;241m=\u001b[39m p\u001b[38;5;241m.\u001b[39mreturncode \u001b[38;5;129;01mor\u001b[39;00m \u001b[38;5;241m-\u001b[39m\u001b[38;5;241m9\u001b[39m\n\u001b[0;32m--> 305\u001b[0m     \u001b[38;5;28;01mraise\u001b[39;00m CalledProcessError(rc, cell)\n",
      "\u001b[0;31mCalledProcessError\u001b[0m: Command 'b'\\n#python -m methylprep process -d \"one-idat-file\" --all --export\\n\\npython -m methylprep process -d \"idat_data/\" --all\\n'' returned non-zero exit status 1."
     ]
    }
   ],
   "source": [
    "%%bash\n",
    "\n",
    "#python -m methylprep process -d \"one-idat-file\" --all --export\n",
    "\n",
    "python -m methylprep process -d \"idat_data/\" --all"
   ]
  },
  {
   "cell_type": "code",
   "execution_count": 17,
   "id": "8bfad99c-8db9-4f69-b28c-e030e257fdf5",
   "metadata": {},
   "outputs": [
    {
     "name": "stderr",
     "output_type": "stream",
     "text": [
      "INFO:methylcheck.load_processed:No meta_data found in (one-idat-file/Galaxy13-[HL60_Resistant_R07C01_Grn.idat].idat).\n"
     ]
    },
    {
     "ename": "ValueError",
     "evalue": "Check the spelling of your format. Allowed: ('beta_value', 'm_value', 'meth', 'meth_df', 'noob_df', 'beta_csv', 'poobah_csv', 'poobah', 'control', 'sesame')",
     "output_type": "error",
     "traceback": [
      "\u001b[0;31m---------------------------------------------------------------------------\u001b[0m",
      "\u001b[0;31mValueError\u001b[0m                                Traceback (most recent call last)",
      "Cell \u001b[0;32mIn[17], line 4\u001b[0m\n\u001b[1;32m      2\u001b[0m \u001b[38;5;28;01mfrom\u001b[39;00m \u001b[38;5;21;01mpathlib\u001b[39;00m \u001b[38;5;28;01mimport\u001b[39;00m Path\n\u001b[1;32m      3\u001b[0m filepath \u001b[38;5;241m=\u001b[39m Path(\u001b[38;5;124m'\u001b[39m\u001b[38;5;124midat_data/\u001b[39m\u001b[38;5;124m'\u001b[39m) \u001b[38;5;66;03m#Galaxy14-[HL60_Resistant_R07C01_Red.idat].idat\u001b[39;00m\n\u001b[0;32m----> 4\u001b[0m df \u001b[38;5;241m=\u001b[39m \u001b[43mmethylcheck\u001b[49m\u001b[38;5;241;43m.\u001b[39;49m\u001b[43mload_both\u001b[49m\u001b[43m(\u001b[49m\u001b[38;5;124;43m\"\u001b[39;49m\u001b[38;5;124;43mone-idat-file/Galaxy13-[HL60_Resistant_R07C01_Grn.idat].idat\u001b[39;49m\u001b[38;5;124;43m\"\u001b[39;49m\u001b[43m,\u001b[49m\u001b[43m  \u001b[49m\u001b[38;5;28;43mformat\u001b[39;49m\u001b[38;5;241;43m=\u001b[39;49m\u001b[38;5;124;43m'\u001b[39;49m\u001b[38;5;124;43midat\u001b[39;49m\u001b[38;5;124;43m'\u001b[39;49m\u001b[43m)\u001b[49m\n\u001b[1;32m      5\u001b[0m df\n",
      "File \u001b[0;32m/scratch/users/anup/miniconda3/envs/protTrans-finetuning/lib/python3.9/site-packages/methylcheck/load_processed.py:629\u001b[0m, in \u001b[0;36mload_both\u001b[0;34m(filepath, format, file_stem, verbose, silent, column_names, rename_samples, sample_names)\u001b[0m\n\u001b[1;32m    626\u001b[0m     LOGGER\u001b[38;5;241m.\u001b[39minfo(\u001b[38;5;124mf\u001b[39m\u001b[38;5;124m\"\u001b[39m\u001b[38;5;124mNo meta_data found in (\u001b[39m\u001b[38;5;132;01m{\u001b[39;00mfilepath\u001b[38;5;132;01m}\u001b[39;00m\u001b[38;5;124m).\u001b[39m\u001b[38;5;124m\"\u001b[39m)\n\u001b[1;32m    627\u001b[0m     meta \u001b[38;5;241m=\u001b[39m pd\u001b[38;5;241m.\u001b[39mDataFrame()\n\u001b[0;32m--> 629\u001b[0m data_df \u001b[38;5;241m=\u001b[39m \u001b[43mload\u001b[49m\u001b[43m(\u001b[49m\u001b[43mfilepath\u001b[49m\u001b[38;5;241;43m=\u001b[39;49m\u001b[43mfilepath\u001b[49m\u001b[43m,\u001b[49m\n\u001b[1;32m    630\u001b[0m \u001b[43m    \u001b[49m\u001b[38;5;28;43mformat\u001b[39;49m\u001b[38;5;241;43m=\u001b[39;49m\u001b[38;5;28;43mformat\u001b[39;49m\u001b[43m,\u001b[49m\n\u001b[1;32m    631\u001b[0m \u001b[43m    \u001b[49m\u001b[43mfile_stem\u001b[49m\u001b[38;5;241;43m=\u001b[39;49m\u001b[43mfile_stem\u001b[49m\u001b[43m,\u001b[49m\n\u001b[1;32m    632\u001b[0m \u001b[43m    \u001b[49m\u001b[43mverbose\u001b[49m\u001b[38;5;241;43m=\u001b[39;49m\u001b[43mverbose\u001b[49m\u001b[43m,\u001b[49m\n\u001b[1;32m    633\u001b[0m \u001b[43m    \u001b[49m\u001b[43msilent\u001b[49m\u001b[38;5;241;43m=\u001b[39;49m\u001b[43msilent\u001b[49m\u001b[43m,\u001b[49m\n\u001b[1;32m    634\u001b[0m \u001b[43m    \u001b[49m\u001b[43mcolumn_names\u001b[49m\u001b[38;5;241;43m=\u001b[39;49m\u001b[43mcolumn_names\u001b[49m\n\u001b[1;32m    635\u001b[0m \u001b[43m    \u001b[49m\u001b[43m)\u001b[49m\n\u001b[1;32m    638\u001b[0m \u001b[38;5;66;03m### confirm the Sample_ID in meta matches the columns (or index) in data_df.\u001b[39;00m\n\u001b[1;32m    639\u001b[0m check \u001b[38;5;241m=\u001b[39m \u001b[38;5;28;01mFalse\u001b[39;00m\n",
      "File \u001b[0;32m/scratch/users/anup/miniconda3/envs/protTrans-finetuning/lib/python3.9/site-packages/methylcheck/load_processed.py:129\u001b[0m, in \u001b[0;36mload\u001b[0;34m(filepath, format, file_stem, verbose, silent, column_names, no_poobah, pval_cutoff, no_filter)\u001b[0m\n\u001b[1;32m    127\u001b[0m formats \u001b[38;5;241m=\u001b[39m (\u001b[38;5;124m'\u001b[39m\u001b[38;5;124mbeta_value\u001b[39m\u001b[38;5;124m'\u001b[39m, \u001b[38;5;124m'\u001b[39m\u001b[38;5;124mm_value\u001b[39m\u001b[38;5;124m'\u001b[39m, \u001b[38;5;124m'\u001b[39m\u001b[38;5;124mmeth\u001b[39m\u001b[38;5;124m'\u001b[39m, \u001b[38;5;124m'\u001b[39m\u001b[38;5;124mmeth_df\u001b[39m\u001b[38;5;124m'\u001b[39m, \u001b[38;5;124m'\u001b[39m\u001b[38;5;124mnoob_df\u001b[39m\u001b[38;5;124m'\u001b[39m, \u001b[38;5;124m'\u001b[39m\u001b[38;5;124mbeta_csv\u001b[39m\u001b[38;5;124m'\u001b[39m, \u001b[38;5;124m'\u001b[39m\u001b[38;5;124mpoobah_csv\u001b[39m\u001b[38;5;124m'\u001b[39m, \u001b[38;5;124m'\u001b[39m\u001b[38;5;124mpoobah\u001b[39m\u001b[38;5;124m'\u001b[39m, \u001b[38;5;124m'\u001b[39m\u001b[38;5;124mcontrol\u001b[39m\u001b[38;5;124m'\u001b[39m, \u001b[38;5;124m'\u001b[39m\u001b[38;5;124msesame\u001b[39m\u001b[38;5;124m'\u001b[39m)\n\u001b[1;32m    128\u001b[0m \u001b[38;5;28;01mif\u001b[39;00m \u001b[38;5;28mformat\u001b[39m \u001b[38;5;129;01mnot\u001b[39;00m \u001b[38;5;129;01min\u001b[39;00m formats:\n\u001b[0;32m--> 129\u001b[0m     \u001b[38;5;28;01mraise\u001b[39;00m \u001b[38;5;167;01mValueError\u001b[39;00m(\u001b[38;5;124mf\u001b[39m\u001b[38;5;124m\"\u001b[39m\u001b[38;5;124mCheck the spelling of your format. Allowed: \u001b[39m\u001b[38;5;132;01m{\u001b[39;00mformats\u001b[38;5;132;01m}\u001b[39;00m\u001b[38;5;124m\"\u001b[39m)\n\u001b[1;32m    131\u001b[0m \u001b[38;5;66;03m#1c: set meta flags\u001b[39;00m\n\u001b[1;32m    132\u001b[0m processed_files \u001b[38;5;241m=\u001b[39m \u001b[38;5;28;01mFalse\u001b[39;00m \u001b[38;5;66;03m# whether to use individual sample files, or beta pkl files.\u001b[39;00m\n",
      "\u001b[0;31mValueError\u001b[0m: Check the spelling of your format. Allowed: ('beta_value', 'm_value', 'meth', 'meth_df', 'noob_df', 'beta_csv', 'poobah_csv', 'poobah', 'control', 'sesame')"
     ]
    }
   ],
   "source": [
    "import methylcheck\n",
    "from pathlib import Path\n",
    "filepath = Path('idat_data/') #Galaxy14-[HL60_Resistant_R07C01_Red.idat].idat\n",
    "df = methylcheck.load_both(\"one-idat-file/Galaxy13-[HL60_Resistant_R07C01_Grn.idat].idat\",  format='idat')\n",
    "df"
   ]
  },
  {
   "cell_type": "code",
   "execution_count": 45,
   "id": "8f1608fb-e34f-4355-b38b-80606f8fd8ec",
   "metadata": {},
   "outputs": [
    {
     "name": "stdout",
     "output_type": "stream",
     "text": [
      "one-idat-file/Galaxy14-[HL60,Resistant,R07C01\n"
     ]
    }
   ],
   "source": []
  },
  {
   "cell_type": "code",
   "execution_count": 46,
   "id": "3fb5848a-849c-42e1-b69e-6a784872fb49",
   "metadata": {},
   "outputs": [
    {
     "data": {
      "text/plain": [
       "['one-idat-file/Galaxy14-[HL60,Resistant,R07C01']"
      ]
     },
     "execution_count": 46,
     "metadata": {},
     "output_type": "execute_result"
    }
   ],
   "source": [
    "csv_lines"
   ]
  },
  {
   "cell_type": "code",
   "execution_count": 5,
   "id": "b1048df0-dd77-41ac-9f80-16af412dbe7d",
   "metadata": {},
   "outputs": [
    {
     "ename": "FileNotFoundError",
     "evalue": "Invalid filepath: one-idat-file/Galaxy14-[HL60_Resistant_R07C01_Red.idat].idat",
     "output_type": "error",
     "traceback": [
      "\u001b[0;31m---------------------------------------------------------------------------\u001b[0m",
      "\u001b[0;31mFileNotFoundError\u001b[0m                         Traceback (most recent call last)",
      "Cell \u001b[0;32mIn[5], line 2\u001b[0m\n\u001b[1;32m      1\u001b[0m \u001b[38;5;28;01mimport\u001b[39;00m \u001b[38;5;21;01mmethylize\u001b[39;00m\n\u001b[0;32m----> 2\u001b[0m data \u001b[38;5;241m=\u001b[39m \u001b[43mmethylcheck\u001b[49m\u001b[38;5;241;43m.\u001b[39;49m\u001b[43mload_both\u001b[49m\u001b[43m(\u001b[49m\u001b[38;5;124;43m\"\u001b[39;49m\u001b[38;5;124;43mone-idat-file/Galaxy14-[HL60_Resistant_R07C01_Red.idat].idat\u001b[39;49m\u001b[38;5;124;43m\"\u001b[39;49m\u001b[43m)\u001b[49m\n",
      "File \u001b[0;32m/scratch/users/anup/miniconda3/envs/protTrans-finetuning/lib/python3.9/site-packages/methylcheck/load_processed.py:574\u001b[0m, in \u001b[0;36mload_both\u001b[0;34m(filepath, format, file_stem, verbose, silent, column_names, rename_samples, sample_names)\u001b[0m\n\u001b[1;32m    538\u001b[0m \u001b[38;5;124;03m\"\"\"Creates and returns TWO objects (data and meta_data) from the given filepath. Confirms sample names match.\u001b[39;00m\n\u001b[1;32m    539\u001b[0m \n\u001b[1;32m    540\u001b[0m \u001b[38;5;124;03mReturns TWO objects (data, meta) as dataframes for analysis.\u001b[39;00m\n\u001b[0;32m   (...)\u001b[0m\n\u001b[1;32m    571\u001b[0m \u001b[38;5;124;03m    suppresses all processing messages, even warnings.\u001b[39;00m\n\u001b[1;32m    572\u001b[0m \u001b[38;5;124;03m\"\"\"\u001b[39;00m\n\u001b[1;32m    573\u001b[0m \u001b[38;5;28;01mif\u001b[39;00m \u001b[38;5;129;01mnot\u001b[39;00m Path(filepath)\u001b[38;5;241m.\u001b[39mexists():\n\u001b[0;32m--> 574\u001b[0m     \u001b[38;5;28;01mraise\u001b[39;00m \u001b[38;5;167;01mFileNotFoundError\u001b[39;00m(\u001b[38;5;124mf\u001b[39m\u001b[38;5;124m\"\u001b[39m\u001b[38;5;124mInvalid filepath: \u001b[39m\u001b[38;5;132;01m{\u001b[39;00mfilepath\u001b[38;5;132;01m}\u001b[39;00m\u001b[38;5;124m\"\u001b[39m)\n\u001b[1;32m    575\u001b[0m suffixes \u001b[38;5;241m=\u001b[39m [\u001b[38;5;124m'\u001b[39m\u001b[38;5;124m.pkl\u001b[39m\u001b[38;5;124m'\u001b[39m, \u001b[38;5;124m'\u001b[39m\u001b[38;5;124m.parquet\u001b[39m\u001b[38;5;124m'\u001b[39m]\n\u001b[1;32m    576\u001b[0m meta_files \u001b[38;5;241m=\u001b[39m [p \u001b[38;5;28;01mfor\u001b[39;00m p \u001b[38;5;129;01min\u001b[39;00m Path(filepath)\u001b[38;5;241m.\u001b[39mrglob(\u001b[38;5;124m'\u001b[39m\u001b[38;5;124m*_meta_data.*\u001b[39m\u001b[38;5;124m'\u001b[39m) \u001b[38;5;28;01mif\u001b[39;00m p\u001b[38;5;241m.\u001b[39msuffix \u001b[38;5;129;01min\u001b[39;00m suffixes]\n",
      "\u001b[0;31mFileNotFoundError\u001b[0m: Invalid filepath: one-idat-file/Galaxy14-[HL60_Resistant_R07C01_Red.idat].idat"
     ]
    }
   ],
   "source": [
    "import methylize\n",
    "data = methylcheck.load_both(\"one-idat-file/Galaxy14-[HL60_Resistant_R07C01_Red.idat].idat\")"
   ]
  },
  {
   "cell_type": "code",
   "execution_count": null,
   "id": "ec4fcf24-5c76-4303-b9a1-844359bf2257",
   "metadata": {},
   "outputs": [],
   "source": []
  }
 ],
 "metadata": {
  "kernelspec": {
   "display_name": "Python 3 (ipykernel)",
   "language": "python",
   "name": "python3"
  },
  "language_info": {
   "codemirror_mode": {
    "name": "ipython",
    "version": 3
   },
   "file_extension": ".py",
   "mimetype": "text/x-python",
   "name": "python",
   "nbconvert_exporter": "python",
   "pygments_lexer": "ipython3",
   "version": "3.9.16"
  }
 },
 "nbformat": 4,
 "nbformat_minor": 5
}
